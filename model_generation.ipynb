pip install transformers

import os

from transformers import GPTNeoForCausalLM, GPT2Tokenizer

# Load Model and Tokenizer
model = GPTNeoForCausalLM.from_pretrained('EleutherAI/gpt-neo-1.3B')
tokenizer = GPT2Tokenizer.from_pretrained('EleutherAI/gpt-neo-1.3B')

# Stop Sequence
STOP_SEQUENCE = "<<END>>"

# Function to generate text with stop sequence
def generate_output(query):
  input_ids = tokenizer.encode(query + " " + STOP_SEQUENCE, return_tensors='pt')
  generated = model.generate(input_ids, do_sample=True, temperature=0.8)

  # Decode and remove stop sequence
  generated_text = tokenizer.decode(generated[0], skip_special_tokens=True).replace(STOP_SEQUENCE, "")
  return generated_text

# Example usage
query = "mining laws in india"
output = generate_output(query)
print(output)
